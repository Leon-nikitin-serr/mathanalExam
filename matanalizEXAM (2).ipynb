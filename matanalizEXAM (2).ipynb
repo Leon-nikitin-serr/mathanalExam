{
 "cells": [
  {
   "cell_type": "markdown",
   "id": "bcdcf008-37f6-4c7f-b817-869be57ec070",
   "metadata": {},
   "source": [
    "# Задание 1"
   ]
  },
  {
   "cell_type": "markdown",
   "id": "a9232d7f-45fd-42db-8dd1-e91f20e4ac23",
   "metadata": {},
   "source": [
    "!.[Пример 1].(https://drive.google.com/file/d/1JsvYJYiOanAkp1-co4DxciQU71ZkatL9/view?usp=sharing)"
   ]
  },
  {
   "cell_type": "markdown",
   "id": "6d9961e2-1dff-49e7-a269-daa2cc810933",
   "metadata": {},
   "source": [
    "!.[Пример 2].(https://drive.google.com/file/d/1JpUClvJNLZgsEzbjPzSE41dO-vM_DnC6/view?usp=sharing)"
   ]
  },
  {
   "cell_type": "markdown",
   "id": "9bc17942-9de0-4850-a5be-ccc4486e8219",
   "metadata": {},
   "source": [
    "!.[Пример 3].(https://drive.google.com/file/d/1JodWNvieIT-jgV44dLYSbk3QrK8aXgYX/view?usp=sharing)"
   ]
  },
  {
   "cell_type": "markdown",
   "id": "c56e5875-d2db-440c-983b-c52355208a2d",
   "metadata": {},
   "source": [
    "# Задание 2"
   ]
  },
  {
   "cell_type": "markdown",
   "id": "7bd5a3b7-203b-4ec5-8506-22b8d5ea21e2",
   "metadata": {},
   "source": [
    "!.[Задание 2].(https://drive.google.com/file/d/1Jvi7fFNi6WT2kHj6r1rc3nB4UefBR49_/view?usp=sharing)"
   ]
  },
  {
   "cell_type": "markdown",
   "id": "aa9bab21-8c93-40f6-8022-15afc693ee0d",
   "metadata": {},
   "source": [
    "# Задание 3"
   ]
  },
  {
   "cell_type": "markdown",
   "id": "c361101e-fe23-4230-966f-0103205f132c",
   "metadata": {},
   "source": [
    "!.[Задание 3].(https://drive.google.com/file/d/1K5BSU53qSdLT-RjvpKAMMR1NKCdL5A_w/view?usp=sharing)"
   ]
  },
  {
   "cell_type": "markdown",
   "id": "32e4c587-db9c-4511-8e61-17819170bacd",
   "metadata": {},
   "source": [
    "# Задание 4"
   ]
  },
  {
   "cell_type": "code",
   "execution_count": 17,
   "id": "badea377-84c7-4e8d-b278-b1b7e39d6da4",
   "metadata": {},
   "outputs": [
    {
     "name": "stdout",
     "output_type": "stream",
     "text": [
      "Accuracy: 0.67\n",
      "Confusion Matrix:\n",
      "[[18 25]\n",
      " [ 3 38]]\n",
      "Classification Report:\n",
      "              precision    recall  f1-score   support\n",
      "\n",
      "           0       0.86      0.42      0.56        43\n",
      "           1       0.60      0.93      0.73        41\n",
      "\n",
      "    accuracy                           0.67        84\n",
      "   macro avg       0.73      0.67      0.65        84\n",
      "weighted avg       0.73      0.67      0.64        84\n",
      "\n"
     ]
    }
   ],
   "source": [
    "import pandas as pd\n",
    "from sklearn.model_selection import train_test_split\n",
    "from sklearn.naive_bayes import GaussianNB\n",
    "from sklearn.metrics import accuracy_score, classification_report, confusion_matrix\n",
    "\n",
    "# Пример данных\n",
    "df = pd.read_csv('asset-v1_SkillFactory+MIFIML-1sem+2024+type@asset+block@sf_exam.csv')\n",
    "\n",
    "# Преобразование переменных в числовые\n",
    "df['Age_Group'] = df['Age_Group'].astype('category').cat.codes\n",
    "df['Test'] = df['Test'].astype('category').cat.codes\n",
    "df['Status'] = df['Status'].astype('category').cat.codes\n",
    "\n",
    "# Разделение данных на признаки и целевую переменную\n",
    "X = df[['Age_Group', 'Test']]\n",
    "y = df['Status']\n",
    "\n",
    "# Разделение на обучающую и тестовую выборки\n",
    "X_train, X_test, y_train, y_test = train_test_split(X, y, test_size=0.3, random_state=42)\n",
    "\n",
    "# Обучение модели Наивного Байеса\n",
    "model = GaussianNB()\n",
    "model.fit(X_train, y_train)\n",
    "\n",
    "# Прогнозирование на тестовой выборке\n",
    "y_pr = model.predict(X_test)\n",
    "\n",
    "# Оценка качества \n",
    "accuracy = accuracy_score(y_test, y_pr)\n",
    "conf_matrix = confusion_matrix(y_test, y_pr)\n",
    "class_report = classification_report(y_test, y_pr)\n",
    "\n",
    "# Выводим результат\n",
    "print(f'Accuracy: {accuracy:.2f}')\n",
    "print('Confusion Matrix:')\n",
    "print(conf_matrix)\n",
    "print('Classification Report:')\n",
    "print(class_report)\n"
   ]
  },
  {
   "cell_type": "markdown",
   "id": "0866bada-de7c-4e5b-b34b-616cb920cb4d",
   "metadata": {},
   "source": [
    "# Задание 5"
   ]
  },
  {
   "cell_type": "code",
   "execution_count": 18,
   "id": "bf576e43-86b0-45ab-9ee9-a5c13ff82c05",
   "metadata": {},
   "outputs": [
    {
     "name": "stdout",
     "output_type": "stream",
     "text": [
      "Оптимальное значение x: 1.3101483441845974\n",
      "Значение функции в оптимальной точке: -3.733927973877101\n"
     ]
    }
   ],
   "source": [
    "import numpy as np\n",
    "\n",
    "# Функция\n",
    "def func(x):\n",
    "    return x**4 + 3*x**3 - 12*x**2 + 7*x - 2\n",
    "\n",
    "# Первая производная\n",
    "def first_derivative(x):\n",
    "    return 4*x**3 + 9*x**2 - 24*x + 7\n",
    "\n",
    "# Вторая производная\n",
    "def second_derivative(x):\n",
    "    return 12*x**2 + 18*x - 24\n",
    "\n",
    "# Метод Ньютона\n",
    "def newton_method(initial_x, epsilon):\n",
    "    x = initial_x\n",
    "    while True:\n",
    "        derivative_val = first_derivative(x)\n",
    "        second_derivative_val = second_derivative(x)\n",
    "        \n",
    "        # Проверка на ноль второй производной\n",
    "        if second_derivative_val == 0:\n",
    "            print(\"Вторая производная равна нулю. Метод Ньютона не может быть применен.\")\n",
    "            return None\n",
    "        \n",
    "        # Обновление значения x\n",
    "        next_x = x - derivative_val / second_derivative_val\n",
    "        \n",
    "        # Проверка на сходимость\n",
    "        if abs(next_x - x) < epsilon:\n",
    "            break\n",
    "        \n",
    "        x = next_x\n",
    "    \n",
    "    return x\n",
    "\n",
    "# Начальная точка и точность\n",
    "start_x = 10\n",
    "epsilon = 0.0001\n",
    "\n",
    "# Запуск метода Ньютона\n",
    "result_x = newton_method(start_x, epsilon)\n",
    "if result_x is not None:\n",
    "    print(f\"Оптимальное значение x: {result_x}\")\n",
    "    print(f\"Значение функции в оптимальной точке: {func(result_x)}\")"
   ]
  },
  {
   "cell_type": "markdown",
   "id": "377dd5ea-5a03-4aaa-91d7-bb11589fe910",
   "metadata": {},
   "source": [
    "# Задание 6"
   ]
  },
  {
   "cell_type": "code",
   "execution_count": 19,
   "id": "0ef3977c-0af2-4ad4-8930-a3b6a71f93ee",
   "metadata": {},
   "outputs": [
    {
     "name": "stdout",
     "output_type": "stream",
     "text": [
      "Вероятность получения 7 спам-писем: 0.05\n",
      "Математическое ожидание: 2.65\n",
      "Дисперсия: 4.03\n"
     ]
    }
   ],
   "source": [
    "# Данные вероятностей\n",
    "probab = [0.1, 0.3, 0.1, 0.25, 0.05, 0.05, 0.1]\n",
    "\n",
    "# Вероятность получения 7 спам-писем\n",
    "sum_probab = sum(probab)\n",
    "prob_7 = 1 - sum_probab  # Вероятность для 7 писем\n",
    "probab.append(prob_7)  # Добавим вероятность 7 писем в список\n",
    "\n",
    "print(f\"Вероятность получения 7 спам-писем: {prob_7:.2f}\")\n",
    "\n",
    "# Функция для вычисления математического ожидания\n",
    "def expected_value_of_distribution(probab):\n",
    "    expected_value = 0\n",
    "    for i in range(len(probab)):\n",
    "        expected_value += i * probab[i]\n",
    "    return expected_value\n",
    "\n",
    "# Математическое ожидание\n",
    "expected_value = expected_value_of_distribution(probab)\n",
    "print(f\"Математическое ожидание: {expected_value:.2f}\")\n",
    "\n",
    "# Функция для вычисления дисперсии\n",
    "def variance_of_distribution(probab, expected_value):\n",
    "    expected_value_squared = 0\n",
    "    for i in range(len(probab)):\n",
    "        expected_value_squared += (i ** 2) * probab[i]\n",
    "    return expected_value_squared - (expected_value ** 2)\n",
    "\n",
    "# Дисперсия\n",
    "variance = variance_of_distribution(probab, expected_value)\n",
    "print(f\"Дисперсия: {variance:.2f}\")"
   ]
  },
  {
   "cell_type": "markdown",
   "id": "39911441-ddb8-47d7-8c69-9227d6a2d1d4",
   "metadata": {},
   "source": [
    "# Задание 7"
   ]
  },
  {
   "cell_type": "code",
   "execution_count": 20,
   "id": "397a22af-ce0e-41c5-826a-a20fe82c1bc3",
   "metadata": {},
   "outputs": [
    {
     "name": "stdout",
     "output_type": "stream",
     "text": [
      "Вероятность, что за час поступит не более 4 и не менее 2 звонков: 0.541\n"
     ]
    }
   ],
   "source": [
    "# Параметр λ\n",
    "lambda_value = 2\n",
    "\n",
    "# Функция для вычисления e^(-λ) без использования готовых функций\n",
    "def exp_neg_lambda(lambda_value):\n",
    "    e_neg_lambda = 1.0  # Начальное значение для e^(-λ)\n",
    "    term = 1.0          # Текущий член ряда\n",
    "    n = 1               # Счетчик для членов ряда\n",
    "    while n < 100:      # Суммируем первые 100 членов ряда\n",
    "        term *= -lambda_value / n  # Следующий член ряда\n",
    "        e_neg_lambda += term\n",
    "        n += 1\n",
    "    return e_neg_lambda\n",
    "\n",
    "# Функция для вычисления k! без использования готовых функций\n",
    "def factorial(k):\n",
    "    result = 1\n",
    "    for i in range(1, k + 1):\n",
    "        result *= i\n",
    "    return result\n",
    "\n",
    "# Функция для вычисления вероятности по распределению Пуассона\n",
    "def poisson_probability(k, lambda_value):\n",
    "    e_neg_lambda = exp_neg_lambda(lambda_value)\n",
    "    return (e_neg_lambda * (lambda_value ** k)) / factorial(k)\n",
    "\n",
    "# Вычисляем вероятности для k = 2, 3, 4\n",
    "prob_2 = poisson_probability(2, lambda_value)\n",
    "prob_3 = poisson_probability(3, lambda_value)\n",
    "prob_4 = poisson_probability(4, lambda_value)\n",
    "\n",
    "# Суммируем вероятности\n",
    "total_probability = prob_2 + prob_3 + prob_4\n",
    "\n",
    "# Округляем до тысячных\n",
    "total_probability_rounded = int(total_probability * 1000 + 0.5) / 1000.0\n",
    "\n",
    "# Выводим результат\n",
    "print(f\"Вероятность, что за час поступит не более 4 и не менее 2 звонков: {total_probability_rounded:.3f}\")"
   ]
  },
  {
   "cell_type": "code",
   "execution_count": null,
   "id": "d946677a-08e8-444d-9b5e-88fd2eb2d250",
   "metadata": {},
   "outputs": [],
   "source": []
  }
 ],
 "metadata": {
  "kernelspec": {
   "display_name": "Python 3 (ipykernel)",
   "language": "python",
   "name": "python3"
  },
  "language_info": {
   "codemirror_mode": {
    "name": "ipython",
    "version": 3
   },
   "file_extension": ".py",
   "mimetype": "text/x-python",
   "name": "python",
   "nbconvert_exporter": "python",
   "pygments_lexer": "ipython3",
   "version": "3.12.7"
  }
 },
 "nbformat": 4,
 "nbformat_minor": 5
}
